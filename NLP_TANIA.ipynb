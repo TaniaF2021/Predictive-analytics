{
  "nbformat": 4,
  "nbformat_minor": 0,
  "metadata": {
    "colab": {
      "name": "NLP- TANIA.ipynb",
      "provenance": [],
      "authorship_tag": "ABX9TyPUls3RcMo/BaB6EKWtXpyg",
      "include_colab_link": true
    },
    "kernelspec": {
      "name": "python3",
      "display_name": "Python 3"
    },
    "language_info": {
      "name": "python"
    }
  },
  "cells": [
    {
      "cell_type": "markdown",
      "metadata": {
        "id": "view-in-github",
        "colab_type": "text"
      },
      "source": [
        "<a href=\"https://colab.research.google.com/github/TaniaF2021/Predictive-analytics/blob/main/NLP_TANIA.ipynb\" target=\"_parent\"><img src=\"https://colab.research.google.com/assets/colab-badge.svg\" alt=\"Open In Colab\"/></a>"
      ]
    },
    {
      "cell_type": "code",
      "execution_count": 1,
      "metadata": {
        "id": "yDaMDEoOXIDL"
      },
      "outputs": [],
      "source": [
        "import pandas as pd\n",
        "import numpy as np"
      ]
    },
    {
      "cell_type": "code",
      "source": [
        "rating_df = pd.read_csv('https://raw.githubusercontent.com/niteen11/data301_predictive_analytics_machine_learning/main/data/imdb_labelled.txt',sep='\\t',names=['Message','Rating']);\n",
        "rating_df"
      ],
      "metadata": {
        "colab": {
          "base_uri": "https://localhost:8080/",
          "height": 423
        },
        "id": "awaRqMsaXozD",
        "outputId": "a5c3646e-d6f1-4954-8ed9-fa491ce6fa56"
      },
      "execution_count": 7,
      "outputs": [
        {
          "output_type": "execute_result",
          "data": {
            "text/html": [
              "<div>\n",
              "<style scoped>\n",
              "    .dataframe tbody tr th:only-of-type {\n",
              "        vertical-align: middle;\n",
              "    }\n",
              "\n",
              "    .dataframe tbody tr th {\n",
              "        vertical-align: top;\n",
              "    }\n",
              "\n",
              "    .dataframe thead th {\n",
              "        text-align: right;\n",
              "    }\n",
              "</style>\n",
              "<table border=\"1\" class=\"dataframe\">\n",
              "  <thead>\n",
              "    <tr style=\"text-align: right;\">\n",
              "      <th></th>\n",
              "      <th>Message</th>\n",
              "      <th>Rating</th>\n",
              "    </tr>\n",
              "  </thead>\n",
              "  <tbody>\n",
              "    <tr>\n",
              "      <th>0</th>\n",
              "      <td>A very, very, very slow-moving, aimless movie ...</td>\n",
              "      <td>0</td>\n",
              "    </tr>\n",
              "    <tr>\n",
              "      <th>1</th>\n",
              "      <td>Not sure who was more lost - the flat characte...</td>\n",
              "      <td>0</td>\n",
              "    </tr>\n",
              "    <tr>\n",
              "      <th>2</th>\n",
              "      <td>Attempting artiness with black &amp; white and cle...</td>\n",
              "      <td>0</td>\n",
              "    </tr>\n",
              "    <tr>\n",
              "      <th>3</th>\n",
              "      <td>Very little music or anything to speak of.</td>\n",
              "      <td>0</td>\n",
              "    </tr>\n",
              "    <tr>\n",
              "      <th>4</th>\n",
              "      <td>The best scene in the movie was when Gerardo i...</td>\n",
              "      <td>1</td>\n",
              "    </tr>\n",
              "    <tr>\n",
              "      <th>...</th>\n",
              "      <td>...</td>\n",
              "      <td>...</td>\n",
              "    </tr>\n",
              "    <tr>\n",
              "      <th>743</th>\n",
              "      <td>I just got bored watching Jessice Lange take h...</td>\n",
              "      <td>0</td>\n",
              "    </tr>\n",
              "    <tr>\n",
              "      <th>744</th>\n",
              "      <td>Unfortunately, any virtue in this film's produ...</td>\n",
              "      <td>0</td>\n",
              "    </tr>\n",
              "    <tr>\n",
              "      <th>745</th>\n",
              "      <td>In a word, it is embarrassing.</td>\n",
              "      <td>0</td>\n",
              "    </tr>\n",
              "    <tr>\n",
              "      <th>746</th>\n",
              "      <td>Exceptionally bad!</td>\n",
              "      <td>0</td>\n",
              "    </tr>\n",
              "    <tr>\n",
              "      <th>747</th>\n",
              "      <td>All in all its an insult to one's intelligence...</td>\n",
              "      <td>0</td>\n",
              "    </tr>\n",
              "  </tbody>\n",
              "</table>\n",
              "<p>748 rows × 2 columns</p>\n",
              "</div>"
            ],
            "text/plain": [
              "                                               Message  Rating\n",
              "0    A very, very, very slow-moving, aimless movie ...       0\n",
              "1    Not sure who was more lost - the flat characte...       0\n",
              "2    Attempting artiness with black & white and cle...       0\n",
              "3         Very little music or anything to speak of.         0\n",
              "4    The best scene in the movie was when Gerardo i...       1\n",
              "..                                                 ...     ...\n",
              "743  I just got bored watching Jessice Lange take h...       0\n",
              "744  Unfortunately, any virtue in this film's produ...       0\n",
              "745                   In a word, it is embarrassing.         0\n",
              "746                               Exceptionally bad!         0\n",
              "747  All in all its an insult to one's intelligence...       0\n",
              "\n",
              "[748 rows x 2 columns]"
            ]
          },
          "metadata": {},
          "execution_count": 7
        }
      ]
    },
    {
      "cell_type": "code",
      "source": [
        "rating_df.head()"
      ],
      "metadata": {
        "colab": {
          "base_uri": "https://localhost:8080/",
          "height": 206
        },
        "id": "_7y6JdwCwlZE",
        "outputId": "69f30a6e-b2b3-4475-8d93-35028464c1e8"
      },
      "execution_count": 8,
      "outputs": [
        {
          "output_type": "execute_result",
          "data": {
            "text/html": [
              "<div>\n",
              "<style scoped>\n",
              "    .dataframe tbody tr th:only-of-type {\n",
              "        vertical-align: middle;\n",
              "    }\n",
              "\n",
              "    .dataframe tbody tr th {\n",
              "        vertical-align: top;\n",
              "    }\n",
              "\n",
              "    .dataframe thead th {\n",
              "        text-align: right;\n",
              "    }\n",
              "</style>\n",
              "<table border=\"1\" class=\"dataframe\">\n",
              "  <thead>\n",
              "    <tr style=\"text-align: right;\">\n",
              "      <th></th>\n",
              "      <th>Message</th>\n",
              "      <th>Rating</th>\n",
              "    </tr>\n",
              "  </thead>\n",
              "  <tbody>\n",
              "    <tr>\n",
              "      <th>0</th>\n",
              "      <td>A very, very, very slow-moving, aimless movie ...</td>\n",
              "      <td>0</td>\n",
              "    </tr>\n",
              "    <tr>\n",
              "      <th>1</th>\n",
              "      <td>Not sure who was more lost - the flat characte...</td>\n",
              "      <td>0</td>\n",
              "    </tr>\n",
              "    <tr>\n",
              "      <th>2</th>\n",
              "      <td>Attempting artiness with black &amp; white and cle...</td>\n",
              "      <td>0</td>\n",
              "    </tr>\n",
              "    <tr>\n",
              "      <th>3</th>\n",
              "      <td>Very little music or anything to speak of.</td>\n",
              "      <td>0</td>\n",
              "    </tr>\n",
              "    <tr>\n",
              "      <th>4</th>\n",
              "      <td>The best scene in the movie was when Gerardo i...</td>\n",
              "      <td>1</td>\n",
              "    </tr>\n",
              "  </tbody>\n",
              "</table>\n",
              "</div>"
            ],
            "text/plain": [
              "                                             Message  Rating\n",
              "0  A very, very, very slow-moving, aimless movie ...       0\n",
              "1  Not sure who was more lost - the flat characte...       0\n",
              "2  Attempting artiness with black & white and cle...       0\n",
              "3       Very little music or anything to speak of.         0\n",
              "4  The best scene in the movie was when Gerardo i...       1"
            ]
          },
          "metadata": {},
          "execution_count": 8
        }
      ]
    },
    {
      "cell_type": "code",
      "source": [
        "rating_df['Message'][1]"
      ],
      "metadata": {
        "colab": {
          "base_uri": "https://localhost:8080/",
          "height": 35
        },
        "id": "Zv7G8qh0xHbm",
        "outputId": "444d45a7-5344-4742-c3dc-89346151b9a4"
      },
      "execution_count": 11,
      "outputs": [
        {
          "output_type": "execute_result",
          "data": {
            "application/vnd.google.colaboratory.intrinsic+json": {
              "type": "string"
            },
            "text/plain": [
              "'Not sure who was more lost - the flat characters or the audience, nearly half of whom walked out.  '"
            ]
          },
          "metadata": {},
          "execution_count": 11
        }
      ]
    },
    {
      "cell_type": "code",
      "source": [
        "rating_df['Message'][4]"
      ],
      "metadata": {
        "colab": {
          "base_uri": "https://localhost:8080/",
          "height": 35
        },
        "id": "Gkg3iXndxb9h",
        "outputId": "3a337b36-5f80-4e94-a063-10c7af03afac"
      },
      "execution_count": 13,
      "outputs": [
        {
          "output_type": "execute_result",
          "data": {
            "application/vnd.google.colaboratory.intrinsic+json": {
              "type": "string"
            },
            "text/plain": [
              "'The best scene in the movie was when Gerardo is trying to find a song that keeps running through his head.  '"
            ]
          },
          "metadata": {},
          "execution_count": 13
        }
      ]
    },
    {
      "cell_type": "code",
      "source": [
        "len(rating_df['Message'][4])"
      ],
      "metadata": {
        "colab": {
          "base_uri": "https://localhost:8080/"
        },
        "id": "327m9p1vxl87",
        "outputId": "80e4f730-3f3c-4a27-926a-754ff27540f5"
      },
      "execution_count": 14,
      "outputs": [
        {
          "output_type": "execute_result",
          "data": {
            "text/plain": [
              "108"
            ]
          },
          "metadata": {},
          "execution_count": 14
        }
      ]
    },
    {
      "cell_type": "code",
      "source": [
        "max(rating_df['Message'].apply(len))"
      ],
      "metadata": {
        "colab": {
          "base_uri": "https://localhost:8080/"
        },
        "id": "sKL2CWhFxu6-",
        "outputId": "0993e2c9-7d20-48cc-fa31-9df08f121cc8"
      },
      "execution_count": 15,
      "outputs": [
        {
          "output_type": "execute_result",
          "data": {
            "text/plain": [
              "7944"
            ]
          },
          "metadata": {},
          "execution_count": 15
        }
      ]
    },
    {
      "cell_type": "code",
      "source": [
        "msg_7944 = rating_df[rating_df['Message'].apply(len)==7944]\n",
        "msg_7944"
      ],
      "metadata": {
        "colab": {
          "base_uri": "https://localhost:8080/",
          "height": 81
        },
        "id": "7Oh4qqNByFcX",
        "outputId": "87d7038e-d1f7-4eb9-95e0-6540cb1d8f08"
      },
      "execution_count": 29,
      "outputs": [
        {
          "output_type": "execute_result",
          "data": {
            "text/html": [
              "<div>\n",
              "<style scoped>\n",
              "    .dataframe tbody tr th:only-of-type {\n",
              "        vertical-align: middle;\n",
              "    }\n",
              "\n",
              "    .dataframe tbody tr th {\n",
              "        vertical-align: top;\n",
              "    }\n",
              "\n",
              "    .dataframe thead th {\n",
              "        text-align: right;\n",
              "    }\n",
              "</style>\n",
              "<table border=\"1\" class=\"dataframe\">\n",
              "  <thead>\n",
              "    <tr style=\"text-align: right;\">\n",
              "      <th></th>\n",
              "      <th>Message</th>\n",
              "      <th>Rating</th>\n",
              "    </tr>\n",
              "  </thead>\n",
              "  <tbody>\n",
              "    <tr>\n",
              "      <th>136</th>\n",
              "      <td>In fact, it's hard to remember that the part ...</td>\n",
              "      <td>0</td>\n",
              "    </tr>\n",
              "  </tbody>\n",
              "</table>\n",
              "</div>"
            ],
            "text/plain": [
              "                                               Message  Rating\n",
              "136   In fact, it's hard to remember that the part ...       0"
            ]
          },
          "metadata": {},
          "execution_count": 29
        }
      ]
    },
    {
      "cell_type": "code",
      "source": [
        "email_data_df.shape"
      ],
      "metadata": {
        "colab": {
          "base_uri": "https://localhost:8080/"
        },
        "id": "SQh0QMPoytQE",
        "outputId": "eb0ffdaa-7db1-4903-bad1-d0a20ed5539b"
      },
      "execution_count": 21,
      "outputs": [
        {
          "output_type": "execute_result",
          "data": {
            "text/plain": [
              "(748, 2)"
            ]
          },
          "metadata": {},
          "execution_count": 21
        }
      ]
    },
    {
      "cell_type": "code",
      "source": [
        "msg_7944.Message"
      ],
      "metadata": {
        "colab": {
          "base_uri": "https://localhost:8080/"
        },
        "id": "GLeMQZPWyyuc",
        "outputId": "64f6c50f-1f56-47e2-b884-adaaf00ebf5a"
      },
      "execution_count": 30,
      "outputs": [
        {
          "output_type": "execute_result",
          "data": {
            "text/plain": [
              "136     In fact, it's hard to remember that the part ...\n",
              "Name: Message, dtype: object"
            ]
          },
          "metadata": {},
          "execution_count": 30
        }
      ]
    },
    {
      "cell_type": "code",
      "source": [
        "msg_7944.Message.iloc[0]"
      ],
      "metadata": {
        "colab": {
          "base_uri": "https://localhost:8080/",
          "height": 122
        },
        "id": "fNyGWSPyy_fc",
        "outputId": "a59a3cdd-b607-42cf-b74c-c51fc2e4d98e"
      },
      "execution_count": 31,
      "outputs": [
        {
          "output_type": "execute_result",
          "data": {
            "application/vnd.google.colaboratory.intrinsic+json": {
              "type": "string"
            },
            "text/plain": [
              "' In fact, it\\'s hard to remember that the part of Ray Charles is being acted, and not played by the man himself.  \\t1\\nRay Charles is legendary.  \\t1\\nRay Charles\\' life provided excellent biographical material for the film, which goes well beyond being just another movie about a musician.  \\t1\\nHitchcock is a great director.  \\t1\\nIronically I mostly find his films a total waste of time to watch.  \\t0\\nSecondly, Hitchcock pretty much perfected the thriller and chase movie.  \\t1\\nIt\\'s this pandering to the audience that sabotages most of his films.  \\t0\\nHence the whole story lacks a certain energy.  \\t0\\nThe plot simply rumbles on like a machine, desperately depending on the addition of new scenes.  \\t0\\nThere are the usual Hitchcock logic flaws.  \\t0\\nMishima is extremely uninteresting.  \\t0\\nThis is a chilly, unremarkable movie about an author living/working in a chilly abstruse culture.  \\t0\\nThe flat reenactments don\\'t hold your attention because they are emotionally adrift and stagy.  \\t0\\nAnd the rest of it just sits there being awful... with soldiers singing songs about the masculinity they pledge themselves to, hairsplitting about purity, the admiration of swords, etc.  \\t0\\nHe can bore you to pieces, and kill the momentum of a movie, quicker than anyone else.  \\t0\\nSchrader has made a resume full of lousy, amateurish films.  \\t0\\nWhen I first watched this movie, in the 80s, I loved it.  \\t1\\nI was totally fascinated by the music, the dancing... everything.  \\t1\\nHowever, I recently watched the whole thing again on DVD, and I was completely struck by how extremely stupid the storyline was - how it contained holes, inconsistencies and - frankly - a whole lot of crap - and how horrid the dancing was.  \\t0\\nI mean, in a realistic world, she would NEVER have gotten into that ballet repertory... The whole thing was quite pathetic.  \\t0\\nThe character developments also lacked in depth.  \\t0\\nWoa, talk about awful.  \\t0\\nDo not waste your time.  \\t0\\nIt was just too horrible.  \\t0\\nThe worst, sappiest dialogue... I could go on and on.  \\t0\\nBut what really made it unwatchable was the direction.  \\t0\\nThe poor actors.  \\t0\\nYou can\\'t even tell if they have any talent because they not only have pathetic lines to speak but the director gave them no action.  \\t0\\nIf you check the director\\'s filmography on this site you will see why this film didn\\'t have a chance.  \\t0\\nThis would not even be good as a made for TV flick.  \\t0\\nIf good intentions made a film great, then this film might be one of the greatest films ever made.  \\t1\\nThe film has great actors, a master director, a significant theme--at least a would-be significant theme, undertone of fifties existential world-weariness, aerial scenes that ought to have thrilled both senses and imagination, and characters about which one might deeply care.  \\t1\\nRegrettably, the film fails.  \\t0\\nThe movie lacks visual interest, drama, expression of feeling, and celebration of the very patriotism that underlines the narrative.  \\t0\\nNo actress has been worse used that June Allison in this movie.  \\t0\\nYet, I enjoy watching it.  \\t1\\nUnfortunately, this is a bad movie that is just plain bad.  \\t0\\nBad script, bad direction and horrible acting make this one plain bad!  \\t0\\nThe dialogue sucked.  \\t0\\nThe cinematography-if it can be called that-sucked.  \\t0\\nThe soundtrack sucked.  \\t0\\nThe acting sucked.  \\t0\\nThe concert sequences just sucked.  \\t0\\nThat was nice.  \\t1\\nThat was funny.  \\t1\\nIt was so funny.  \\t1\\nOverall, this movie was cheap trash.  \\t0\\nBut this movie is not funny, considering the ridiculousness of it.  \\t0\\nI came out of it feeling angry.  \\t0\\n***SPOILERS*** Whatever else can (or can\\'t) be said about it, SURFACE is superbly crafted.  \\t1\\nThe cinematography is simply stunning (to say the least) and the fx are nothing if not state-of-the-art.  \\t1\\nConceptually, the show offers a little bit of everything- and for just about everybody (parents, kids, fantasy and/or fx fans).  \\t1\\nAnd there wasn\\'t a single sour note struck acting-wise, either; some surprisingly solid casting, here.  \\t1\\nAll things considered, a job very well done.  \\t1\\nThanks good a movie like this was done and released.  \\t1\\nOne of the best mexican movies ever!, and one of the less understood, even by mexican themselves, no matter how identified the should have felt with it.  \\t1\\nIt ranks highly as a great noir-crime-drama, incredible performances by Belmondo and Lino Ventura.  \\t1\\nThe attention given to every character, and complex psychological portrayals, detailing loyalty, treachery, love, and hope, are tremendous.  \\t1\\nIt is an excellent drama, an excellent thriller, and an excellent film.  \\t1\\nUp there with the best of Melville.  \\t1\\nEverything about this film is simply incredible.  \\t1\\nYou truly take this journey through the eyes and soul of a child.  \\t1\\nBLACK WATER is a thriller that manages to completely transcend it\\'s limitations (it\\'s an indie flick) by continually subverting expectations to emerge as an intense experience.  \\t1\\nThe performances are real and gripping, the crocdodile is extremely well done, indeed if the Black Water website is to be believed that\\'s because they used real crocs and the swamp location is fabulous.  \\t1\\nI thoroughly enjoyed it when Christopher Eccleston took control of the TARDIS and the continuation of the series.  \\t1\\nI\\'m not sure what he was trying to do with this film.  \\t0\\nIf it was to turn my good day feeling into a night of disturbing memories than I guess he succeeded.  \\t0\\nThere is a lot of beautiful places.  \\t1\\nIt was forced, like everything in this movie.  \\t0\\nAgain, lame.  \\t0\\nHere\\'s where the movie really pi**ed me off.  \\t0\\nAnd don\\'t even get me started on the jerky camerawork.  \\t0\\nWhen I saw it in the theater I thought I was going to be sick.  \\t0\\nSummary: The witticisms weren\\'t witty.  \\t0\\nThe plot - well, I said I\\'d let that one go.  \\t0\\nThe acting was bad.  \\t0\\nReally bad.  \\t0\\nEven Billy Bob couldn\\'t rise above the script, which was worse.  \\t0\\nCamerawork - again, bad.  \\t0\\nRating: 1 out of 10.  \\t0\\nAn AMAZING finale to possibly the BEST trilogy of all time!  \\t1\\nKieslowski never ceases to amaze me.  \\t1\\nHe is one of my favourite directors, and one of the most talented directors in the history of cinema.  \\t1\\nHis use of the colours of the French flag in the three films was nothing short of incredible, every shot, every scene was like a work of art.  \\t1\\nThree of the most visually appealing movies i\\'ve ever seen.  \\t1\\nAnd his subtle connections between the three films are awesome.  \\t1\\nI have to mention this and it is a huge SPOILER, i loved the ending, how all the characters of the three films were the remaining survivors of the ferry disaster, with Valentine and the young judge together, and the old man watching it on her TV, solidifying his happiness over the suffering which he dealt with for those many years.  \\t1\\nI couldn\\'t think of a better way to end the film, but a smile on my face, great way to wrap up an amazing film and trilogy!  \\t1\\nI recommend this for EVERYONE who loves film, movies, anything...A Work of Art!  \\t1\\n10 out of 10 for both the movie and trilogy.  \\t1\\nI literally vomited while watching this film.  \\t0\\nI think i was one of the people who found this another one of roth\\'s pearls.  \\t1\\nhis performance, as awarded, was stunning.  \\t1\\nthe story which was told so eloquently by Francis ford Coppola 25 years earlier, really unfolds gradually and leaves room for the characters to develop.  \\t1\\nIn a most wonderful location lies a story of contrast.  \\t1\\nAll in all a beautiful directed film from Nicola\\'s roeg wih a sublime cast.  \\t1\\nI\\'m translating movies for a living and this is the first movie in my 5-year working experience that I found offensive to my intelligence.  \\t0\\nBut when someone strives for greatness and poetry, but delivers a muddled (and often ridiculous) story, a bunch of disparate scenes, pretentious dialogue... Then you get the worst kind of a movie that some other reviewer very accurately defined as pretentious crap\".  '"
            ]
          },
          "metadata": {},
          "execution_count": 31
        }
      ]
    },
    {
      "cell_type": "code",
      "source": [
        "import string"
      ],
      "metadata": {
        "id": "0inZBPl8zIyR"
      },
      "execution_count": 32,
      "outputs": []
    },
    {
      "cell_type": "code",
      "source": [
        "remove_punct = [char for char in msg_7944.Message.iloc[0] if char not in string.punctuation]"
      ],
      "metadata": {
        "id": "UVO1in1czMXk"
      },
      "execution_count": 33,
      "outputs": []
    },
    {
      "cell_type": "code",
      "source": [
        "remove_punct = ''.join(remove_punct)\n",
        "remove_punct"
      ],
      "metadata": {
        "colab": {
          "base_uri": "https://localhost:8080/",
          "height": 122
        },
        "id": "ooiepB6Yz6N5",
        "outputId": "ed7f86a1-55e1-4c5b-9987-a5b115091f4c"
      },
      "execution_count": 35,
      "outputs": [
        {
          "output_type": "execute_result",
          "data": {
            "application/vnd.google.colaboratory.intrinsic+json": {
              "type": "string"
            },
            "text/plain": [
              "' In fact its hard to remember that the part of Ray Charles is being acted and not played by the man himself  \\t1\\nRay Charles is legendary  \\t1\\nRay Charles life provided excellent biographical material for the film which goes well beyond being just another movie about a musician  \\t1\\nHitchcock is a great director  \\t1\\nIronically I mostly find his films a total waste of time to watch  \\t0\\nSecondly Hitchcock pretty much perfected the thriller and chase movie  \\t1\\nIts this pandering to the audience that sabotages most of his films  \\t0\\nHence the whole story lacks a certain energy  \\t0\\nThe plot simply rumbles on like a machine desperately depending on the addition of new scenes  \\t0\\nThere are the usual Hitchcock logic flaws  \\t0\\nMishima is extremely uninteresting  \\t0\\nThis is a chilly unremarkable movie about an author livingworking in a chilly abstruse culture  \\t0\\nThe flat reenactments dont hold your attention because they are emotionally adrift and stagy  \\t0\\nAnd the rest of it just sits there being awful with soldiers singing songs about the masculinity they pledge themselves to hairsplitting about purity the admiration of swords etc  \\t0\\nHe can bore you to pieces and kill the momentum of a movie quicker than anyone else  \\t0\\nSchrader has made a resume full of lousy amateurish films  \\t0\\nWhen I first watched this movie in the 80s I loved it  \\t1\\nI was totally fascinated by the music the dancing everything  \\t1\\nHowever I recently watched the whole thing again on DVD and I was completely struck by how extremely stupid the storyline was  how it contained holes inconsistencies and  frankly  a whole lot of crap  and how horrid the dancing was  \\t0\\nI mean in a realistic world she would NEVER have gotten into that ballet repertory The whole thing was quite pathetic  \\t0\\nThe character developments also lacked in depth  \\t0\\nWoa talk about awful  \\t0\\nDo not waste your time  \\t0\\nIt was just too horrible  \\t0\\nThe worst sappiest dialogue I could go on and on  \\t0\\nBut what really made it unwatchable was the direction  \\t0\\nThe poor actors  \\t0\\nYou cant even tell if they have any talent because they not only have pathetic lines to speak but the director gave them no action  \\t0\\nIf you check the directors filmography on this site you will see why this film didnt have a chance  \\t0\\nThis would not even be good as a made for TV flick  \\t0\\nIf good intentions made a film great then this film might be one of the greatest films ever made  \\t1\\nThe film has great actors a master director a significant themeat least a wouldbe significant theme undertone of fifties existential worldweariness aerial scenes that ought to have thrilled both senses and imagination and characters about which one might deeply care  \\t1\\nRegrettably the film fails  \\t0\\nThe movie lacks visual interest drama expression of feeling and celebration of the very patriotism that underlines the narrative  \\t0\\nNo actress has been worse used that June Allison in this movie  \\t0\\nYet I enjoy watching it  \\t1\\nUnfortunately this is a bad movie that is just plain bad  \\t0\\nBad script bad direction and horrible acting make this one plain bad  \\t0\\nThe dialogue sucked  \\t0\\nThe cinematographyif it can be called thatsucked  \\t0\\nThe soundtrack sucked  \\t0\\nThe acting sucked  \\t0\\nThe concert sequences just sucked  \\t0\\nThat was nice  \\t1\\nThat was funny  \\t1\\nIt was so funny  \\t1\\nOverall this movie was cheap trash  \\t0\\nBut this movie is not funny considering the ridiculousness of it  \\t0\\nI came out of it feeling angry  \\t0\\nSPOILERS Whatever else can or cant be said about it SURFACE is superbly crafted  \\t1\\nThe cinematography is simply stunning to say the least and the fx are nothing if not stateoftheart  \\t1\\nConceptually the show offers a little bit of everything and for just about everybody parents kids fantasy andor fx fans  \\t1\\nAnd there wasnt a single sour note struck actingwise either some surprisingly solid casting here  \\t1\\nAll things considered a job very well done  \\t1\\nThanks good a movie like this was done and released  \\t1\\nOne of the best mexican movies ever and one of the less understood even by mexican themselves no matter how identified the should have felt with it  \\t1\\nIt ranks highly as a great noircrimedrama incredible performances by Belmondo and Lino Ventura  \\t1\\nThe attention given to every character and complex psychological portrayals detailing loyalty treachery love and hope are tremendous  \\t1\\nIt is an excellent drama an excellent thriller and an excellent film  \\t1\\nUp there with the best of Melville  \\t1\\nEverything about this film is simply incredible  \\t1\\nYou truly take this journey through the eyes and soul of a child  \\t1\\nBLACK WATER is a thriller that manages to completely transcend its limitations its an indie flick by continually subverting expectations to emerge as an intense experience  \\t1\\nThe performances are real and gripping the crocdodile is extremely well done indeed if the Black Water website is to be believed thats because they used real crocs and the swamp location is fabulous  \\t1\\nI thoroughly enjoyed it when Christopher Eccleston took control of the TARDIS and the continuation of the series  \\t1\\nIm not sure what he was trying to do with this film  \\t0\\nIf it was to turn my good day feeling into a night of disturbing memories than I guess he succeeded  \\t0\\nThere is a lot of beautiful places  \\t1\\nIt was forced like everything in this movie  \\t0\\nAgain lame  \\t0\\nHeres where the movie really pied me off  \\t0\\nAnd dont even get me started on the jerky camerawork  \\t0\\nWhen I saw it in the theater I thought I was going to be sick  \\t0\\nSummary The witticisms werent witty  \\t0\\nThe plot  well I said Id let that one go  \\t0\\nThe acting was bad  \\t0\\nReally bad  \\t0\\nEven Billy Bob couldnt rise above the script which was worse  \\t0\\nCamerawork  again bad  \\t0\\nRating 1 out of 10  \\t0\\nAn AMAZING finale to possibly the BEST trilogy of all time  \\t1\\nKieslowski never ceases to amaze me  \\t1\\nHe is one of my favourite directors and one of the most talented directors in the history of cinema  \\t1\\nHis use of the colours of the French flag in the three films was nothing short of incredible every shot every scene was like a work of art  \\t1\\nThree of the most visually appealing movies ive ever seen  \\t1\\nAnd his subtle connections between the three films are awesome  \\t1\\nI have to mention this and it is a huge SPOILER i loved the ending how all the characters of the three films were the remaining survivors of the ferry disaster with Valentine and the young judge together and the old man watching it on her TV solidifying his happiness over the suffering which he dealt with for those many years  \\t1\\nI couldnt think of a better way to end the film but a smile on my face great way to wrap up an amazing film and trilogy  \\t1\\nI recommend this for EVERYONE who loves film movies anythingA Work of Art  \\t1\\n10 out of 10 for both the movie and trilogy  \\t1\\nI literally vomited while watching this film  \\t0\\nI think i was one of the people who found this another one of roths pearls  \\t1\\nhis performance as awarded was stunning  \\t1\\nthe story which was told so eloquently by Francis ford Coppola 25 years earlier really unfolds gradually and leaves room for the characters to develop  \\t1\\nIn a most wonderful location lies a story of contrast  \\t1\\nAll in all a beautiful directed film from Nicolas roeg wih a sublime cast  \\t1\\nIm translating movies for a living and this is the first movie in my 5year working experience that I found offensive to my intelligence  \\t0\\nBut when someone strives for greatness and poetry but delivers a muddled and often ridiculous story a bunch of disparate scenes pretentious dialogue Then you get the worst kind of a movie that some other reviewer very accurately defined as pretentious crap  '"
            ]
          },
          "metadata": {},
          "execution_count": 35
        }
      ]
    },
    {
      "cell_type": "code",
      "source": [
        "len(remove_punct)"
      ],
      "metadata": {
        "colab": {
          "base_uri": "https://localhost:8080/"
        },
        "id": "JddZPhsF0D1Z",
        "outputId": "802c7296-9923-4430-ea92-377e1b584a35"
      },
      "execution_count": 36,
      "outputs": [
        {
          "output_type": "execute_result",
          "data": {
            "text/plain": [
              "7679"
            ]
          },
          "metadata": {},
          "execution_count": 36
        }
      ]
    },
    {
      "cell_type": "code",
      "source": [
        "import nltk\n",
        "nltk.download('stopwords')"
      ],
      "metadata": {
        "colab": {
          "base_uri": "https://localhost:8080/"
        },
        "id": "1NwSwZfq0JgD",
        "outputId": "ed2619a6-9eb0-41ee-e9d9-7f1ba55c94e4"
      },
      "execution_count": 37,
      "outputs": [
        {
          "output_type": "stream",
          "name": "stdout",
          "text": [
            "[nltk_data] Downloading package stopwords to /root/nltk_data...\n",
            "[nltk_data]   Unzipping corpora/stopwords.zip.\n"
          ]
        },
        {
          "output_type": "execute_result",
          "data": {
            "text/plain": [
              "True"
            ]
          },
          "metadata": {},
          "execution_count": 37
        }
      ]
    },
    {
      "cell_type": "code",
      "source": [
        "from nltk.corpus import stopwords"
      ],
      "metadata": {
        "id": "1so0S96n0Of7"
      },
      "execution_count": 38,
      "outputs": []
    },
    {
      "cell_type": "code",
      "source": [
        "stopwords.words('english')[0:10]"
      ],
      "metadata": {
        "colab": {
          "base_uri": "https://localhost:8080/"
        },
        "id": "LkxyeImz0SRM",
        "outputId": "ef6d123c-364d-4294-d6a4-acd42286be8c"
      },
      "execution_count": 39,
      "outputs": [
        {
          "output_type": "execute_result",
          "data": {
            "text/plain": [
              "['i', 'me', 'my', 'myself', 'we', 'our', 'ours', 'ourselves', 'you', \"you're\"]"
            ]
          },
          "metadata": {},
          "execution_count": 39
        }
      ]
    },
    {
      "cell_type": "code",
      "source": [
        "remove_stopwords = [word for word in remove_punct.split() if word.lower() not in stopwords.words('english')]"
      ],
      "metadata": {
        "id": "l2wnHmVS0ZSw"
      },
      "execution_count": 40,
      "outputs": []
    },
    {
      "cell_type": "markdown",
      "source": [
        "# remove_stopwords"
      ],
      "metadata": {
        "id": "Ym7Y_C4r0gP9"
      }
    },
    {
      "cell_type": "code",
      "source": [
        "len(remove_stopwords)"
      ],
      "metadata": {
        "colab": {
          "base_uri": "https://localhost:8080/"
        },
        "id": "J95NjT0p0hgB",
        "outputId": "6ccd404d-d468-44ae-8b85-087fe5a0a236"
      },
      "execution_count": 41,
      "outputs": [
        {
          "output_type": "execute_result",
          "data": {
            "text/plain": [
              "789"
            ]
          },
          "metadata": {},
          "execution_count": 41
        }
      ]
    },
    {
      "cell_type": "code",
      "source": [
        "len(remove_punct)"
      ],
      "metadata": {
        "colab": {
          "base_uri": "https://localhost:8080/"
        },
        "id": "yAzjSf2M0tyo",
        "outputId": "4392bdd7-1460-4086-f2fd-879aefddb151"
      },
      "execution_count": 42,
      "outputs": [
        {
          "output_type": "execute_result",
          "data": {
            "text/plain": [
              "7679"
            ]
          },
          "metadata": {},
          "execution_count": 42
        }
      ]
    },
    {
      "cell_type": "markdown",
      "source": [
        ""
      ],
      "metadata": {
        "id": "FIEL1wWL05rZ"
      }
    },
    {
      "cell_type": "markdown",
      "source": [
        "# Function\n",
        "# To Automate the text data pre processing part"
      ],
      "metadata": {
        "id": "kbuefrUF0yEn"
      }
    },
    {
      "cell_type": "code",
      "source": [
        "def rating_pre_process(rating_message):\n",
        "  remove_punct = [char for char in rating_message if char not in string.punctuation]\n",
        "  remove_punct = ''.join(remove_punct)\n",
        "  remove_stopwords = [word for word in remove_punct.split() if word.lower() not in stopwords.words('english')]\n",
        "  return remove_stopwords"
      ],
      "metadata": {
        "id": "5F-QtzEe01G-"
      },
      "execution_count": 44,
      "outputs": []
    },
    {
      "cell_type": "code",
      "source": [
        "rating_df['Message'].head(10).apply(rating_pre_process)"
      ],
      "metadata": {
        "colab": {
          "base_uri": "https://localhost:8080/"
        },
        "id": "JA1pKjrU1Cmo",
        "outputId": "23931516-ddd7-4f17-bd70-40857f9eacb0"
      },
      "execution_count": 45,
      "outputs": [
        {
          "output_type": "execute_result",
          "data": {
            "text/plain": [
              "0    [slowmoving, aimless, movie, distressed, drift...\n",
              "1    [sure, lost, flat, characters, audience, nearl...\n",
              "2    [Attempting, artiness, black, white, clever, c...\n",
              "3                     [little, music, anything, speak]\n",
              "4    [best, scene, movie, Gerardo, trying, find, so...\n",
              "5    [rest, movie, lacks, art, charm, meaning, empt...\n",
              "6                                 [Wasted, two, hours]\n",
              "7    [Saw, movie, today, thought, good, effort, goo...\n",
              "8                                   [bit, predictable]\n",
              "9    [Loved, casting, Jimmy, Buffet, science, teacher]\n",
              "Name: Message, dtype: object"
            ]
          },
          "metadata": {},
          "execution_count": 45
        }
      ]
    },
    {
      "cell_type": "code",
      "source": [
        "rating_df.head()"
      ],
      "metadata": {
        "colab": {
          "base_uri": "https://localhost:8080/",
          "height": 206
        },
        "id": "p3MzTXZi1xAT",
        "outputId": "7ebecf13-6565-4153-c45f-d7c52a9d91fb"
      },
      "execution_count": 46,
      "outputs": [
        {
          "output_type": "execute_result",
          "data": {
            "text/html": [
              "<div>\n",
              "<style scoped>\n",
              "    .dataframe tbody tr th:only-of-type {\n",
              "        vertical-align: middle;\n",
              "    }\n",
              "\n",
              "    .dataframe tbody tr th {\n",
              "        vertical-align: top;\n",
              "    }\n",
              "\n",
              "    .dataframe thead th {\n",
              "        text-align: right;\n",
              "    }\n",
              "</style>\n",
              "<table border=\"1\" class=\"dataframe\">\n",
              "  <thead>\n",
              "    <tr style=\"text-align: right;\">\n",
              "      <th></th>\n",
              "      <th>Message</th>\n",
              "      <th>Rating</th>\n",
              "    </tr>\n",
              "  </thead>\n",
              "  <tbody>\n",
              "    <tr>\n",
              "      <th>0</th>\n",
              "      <td>A very, very, very slow-moving, aimless movie ...</td>\n",
              "      <td>0</td>\n",
              "    </tr>\n",
              "    <tr>\n",
              "      <th>1</th>\n",
              "      <td>Not sure who was more lost - the flat characte...</td>\n",
              "      <td>0</td>\n",
              "    </tr>\n",
              "    <tr>\n",
              "      <th>2</th>\n",
              "      <td>Attempting artiness with black &amp; white and cle...</td>\n",
              "      <td>0</td>\n",
              "    </tr>\n",
              "    <tr>\n",
              "      <th>3</th>\n",
              "      <td>Very little music or anything to speak of.</td>\n",
              "      <td>0</td>\n",
              "    </tr>\n",
              "    <tr>\n",
              "      <th>4</th>\n",
              "      <td>The best scene in the movie was when Gerardo i...</td>\n",
              "      <td>1</td>\n",
              "    </tr>\n",
              "  </tbody>\n",
              "</table>\n",
              "</div>"
            ],
            "text/plain": [
              "                                             Message  Rating\n",
              "0  A very, very, very slow-moving, aimless movie ...       0\n",
              "1  Not sure who was more lost - the flat characte...       0\n",
              "2  Attempting artiness with black & white and cle...       0\n",
              "3       Very little music or anything to speak of.         0\n",
              "4  The best scene in the movie was when Gerardo i...       1"
            ]
          },
          "metadata": {},
          "execution_count": 46
        }
      ]
    },
    {
      "cell_type": "markdown",
      "source": [
        "# Vectorization"
      ],
      "metadata": {
        "id": "fYKPtDa615sl"
      }
    },
    {
      "cell_type": "code",
      "source": [
        "from sklearn.feature_extraction.text import CountVectorizer"
      ],
      "metadata": {
        "id": "DoguisRu18x_"
      },
      "execution_count": 48,
      "outputs": []
    },
    {
      "cell_type": "code",
      "source": [
        "bag_of_words = CountVectorizer(analyzer=rating_pre_process).fit(rating_df['Message'])\n",
        "bag_of_words_trf = bag_of_words.transform(rating_df['Message'])"
      ],
      "metadata": {
        "id": "dP9NfKbe2E8X"
      },
      "execution_count": 50,
      "outputs": []
    },
    {
      "cell_type": "markdown",
      "source": [
        "# TF-IDF (Transformer)"
      ],
      "metadata": {
        "id": "oAuNzaTl2io7"
      }
    },
    {
      "cell_type": "code",
      "source": [
        "from sklearn.feature_extraction.text import TfidfTransformer"
      ],
      "metadata": {
        "id": "77Uryqzf2kZH"
      },
      "execution_count": 51,
      "outputs": []
    },
    {
      "cell_type": "code",
      "source": [
        "tfidf_fit = TfidfTransformer().fit(bag_of_words_trf)\n",
        "tfidf_trf = tfidf_fit.transform(bag_of_words_trf)"
      ],
      "metadata": {
        "id": "3LNl-jek2rwZ"
      },
      "execution_count": 52,
      "outputs": []
    },
    {
      "cell_type": "markdown",
      "source": [
        "# Model Building"
      ],
      "metadata": {
        "id": "lFzV5gn3216g"
      }
    },
    {
      "cell_type": "code",
      "source": [
        "from sklearn.naive_bayes import MultinomialNB"
      ],
      "metadata": {
        "id": "bAaYdA6224C0"
      },
      "execution_count": 53,
      "outputs": []
    },
    {
      "cell_type": "code",
      "source": [
        "GoodR_detector_model = MultinomialNB().fit(tfidf_trf,rating_df['Rating'])"
      ],
      "metadata": {
        "id": "MrRf67vS3OCl"
      },
      "execution_count": 66,
      "outputs": []
    },
    {
      "cell_type": "code",
      "source": [
        "test_message = rating_df['Message'][10]"
      ],
      "metadata": {
        "id": "T7l0SslO3jEI"
      },
      "execution_count": 67,
      "outputs": []
    },
    {
      "cell_type": "code",
      "source": [
        "bag_of_words_test_message = bag_of_words.transform([test_message])"
      ],
      "metadata": {
        "id": "k730Jm0A3vOr"
      },
      "execution_count": 68,
      "outputs": []
    },
    {
      "cell_type": "code",
      "source": [
        "tfidf_test_messsge = tfidf_fit.transform(bag_of_words_test_message)"
      ],
      "metadata": {
        "id": "gah7vcwh30It"
      },
      "execution_count": 69,
      "outputs": []
    },
    {
      "cell_type": "code",
      "source": [
        "GoodR_detector_model.predict(tfidf_test_messsge)[0]"
      ],
      "metadata": {
        "colab": {
          "base_uri": "https://localhost:8080/"
        },
        "id": "_TReyO1c343A",
        "outputId": "676b3000-e297-4cb0-a29a-bb9a741b28c6"
      },
      "execution_count": 70,
      "outputs": [
        {
          "output_type": "execute_result",
          "data": {
            "text/plain": [
              "1"
            ]
          },
          "metadata": {},
          "execution_count": 70
        }
      ]
    },
    {
      "cell_type": "code",
      "source": [
        "rating_df['Rating'][10]"
      ],
      "metadata": {
        "colab": {
          "base_uri": "https://localhost:8080/"
        },
        "id": "OCmC2VTg4PgS",
        "outputId": "6c2ebe67-6b16-45e5-abf0-536aa0983b8a"
      },
      "execution_count": 71,
      "outputs": [
        {
          "output_type": "execute_result",
          "data": {
            "text/plain": [
              "1"
            ]
          },
          "metadata": {},
          "execution_count": 71
        }
      ]
    },
    {
      "cell_type": "code",
      "source": [
        "rating_df.head()"
      ],
      "metadata": {
        "colab": {
          "base_uri": "https://localhost:8080/",
          "height": 206
        },
        "id": "rRXuAagi4Ykx",
        "outputId": "faa6e17a-ccda-43ea-f883-d275931b2409"
      },
      "execution_count": 65,
      "outputs": [
        {
          "output_type": "execute_result",
          "data": {
            "text/html": [
              "<div>\n",
              "<style scoped>\n",
              "    .dataframe tbody tr th:only-of-type {\n",
              "        vertical-align: middle;\n",
              "    }\n",
              "\n",
              "    .dataframe tbody tr th {\n",
              "        vertical-align: top;\n",
              "    }\n",
              "\n",
              "    .dataframe thead th {\n",
              "        text-align: right;\n",
              "    }\n",
              "</style>\n",
              "<table border=\"1\" class=\"dataframe\">\n",
              "  <thead>\n",
              "    <tr style=\"text-align: right;\">\n",
              "      <th></th>\n",
              "      <th>Message</th>\n",
              "      <th>Rating</th>\n",
              "    </tr>\n",
              "  </thead>\n",
              "  <tbody>\n",
              "    <tr>\n",
              "      <th>0</th>\n",
              "      <td>A very, very, very slow-moving, aimless movie ...</td>\n",
              "      <td>0</td>\n",
              "    </tr>\n",
              "    <tr>\n",
              "      <th>1</th>\n",
              "      <td>Not sure who was more lost - the flat characte...</td>\n",
              "      <td>0</td>\n",
              "    </tr>\n",
              "    <tr>\n",
              "      <th>2</th>\n",
              "      <td>Attempting artiness with black &amp; white and cle...</td>\n",
              "      <td>0</td>\n",
              "    </tr>\n",
              "    <tr>\n",
              "      <th>3</th>\n",
              "      <td>Very little music or anything to speak of.</td>\n",
              "      <td>0</td>\n",
              "    </tr>\n",
              "    <tr>\n",
              "      <th>4</th>\n",
              "      <td>The best scene in the movie was when Gerardo i...</td>\n",
              "      <td>1</td>\n",
              "    </tr>\n",
              "  </tbody>\n",
              "</table>\n",
              "</div>"
            ],
            "text/plain": [
              "                                             Message  Rating\n",
              "0  A very, very, very slow-moving, aimless movie ...       0\n",
              "1  Not sure who was more lost - the flat characte...       0\n",
              "2  Attempting artiness with black & white and cle...       0\n",
              "3       Very little music or anything to speak of.         0\n",
              "4  The best scene in the movie was when Gerardo i...       1"
            ]
          },
          "metadata": {},
          "execution_count": 65
        }
      ]
    },
    {
      "cell_type": "code",
      "source": [
        "prediction_for_all_ratings = GoodR_detector_model.predict(tfidf_trf)"
      ],
      "metadata": {
        "id": "DwHvkFAI45Bo"
      },
      "execution_count": 72,
      "outputs": []
    },
    {
      "cell_type": "code",
      "source": [
        "from sklearn.metrics import classification_report"
      ],
      "metadata": {
        "id": "oXZBHw8u5F1z"
      },
      "execution_count": 73,
      "outputs": []
    },
    {
      "cell_type": "code",
      "source": [
        "print(classification_report(rating_df['Rating'],prediction_for_all_ratings))"
      ],
      "metadata": {
        "colab": {
          "base_uri": "https://localhost:8080/"
        },
        "id": "umU3N2-J5JM3",
        "outputId": "13f778d1-85aa-4f5e-9e4d-2df467de37a2"
      },
      "execution_count": 92,
      "outputs": [
        {
          "output_type": "stream",
          "name": "stdout",
          "text": [
            "              precision    recall  f1-score   support\n",
            "\n",
            "           0       0.98      0.98      0.98       362\n",
            "           1       0.98      0.98      0.98       386\n",
            "\n",
            "    accuracy                           0.98       748\n",
            "   macro avg       0.98      0.98      0.98       748\n",
            "weighted avg       0.98      0.98      0.98       748\n",
            "\n"
          ]
        }
      ]
    },
    {
      "cell_type": "markdown",
      "source": [
        "# New Section"
      ],
      "metadata": {
        "id": "GVEwxPjG8M5j"
      }
    },
    {
      "cell_type": "markdown",
      "source": [
        "# Train Test Split"
      ],
      "metadata": {
        "id": "p85tGGj25pe2"
      }
    },
    {
      "cell_type": "code",
      "source": [
        "from sklearn.model_selection import train_test_split"
      ],
      "metadata": {
        "id": "A-_6khmX5sGw"
      },
      "execution_count": 77,
      "outputs": []
    },
    {
      "cell_type": "code",
      "source": [
        "msg_train, msg_test, class_train, class_test = train_test_split(rating_df['Message'],rating_df['Rating']) "
      ],
      "metadata": {
        "id": "OXDiVN8K5kQ0"
      },
      "execution_count": 78,
      "outputs": []
    },
    {
      "cell_type": "code",
      "source": [
        "print(msg_train.shape)\n",
        "print(msg_test.shape)\n",
        "print(class_train.shape)\n",
        "print(class_test.shape)"
      ],
      "metadata": {
        "colab": {
          "base_uri": "https://localhost:8080/"
        },
        "id": "XzpTlunn5dwr",
        "outputId": "c717af00-2473-444d-c850-b071d4c2c8ed"
      },
      "execution_count": 79,
      "outputs": [
        {
          "output_type": "stream",
          "name": "stdout",
          "text": [
            "(561,)\n",
            "(187,)\n",
            "(561,)\n",
            "(187,)\n"
          ]
        }
      ]
    },
    {
      "cell_type": "markdown",
      "source": [
        "# Pipeline Building"
      ],
      "metadata": {
        "id": "nmx6ZFEA6HgR"
      }
    },
    {
      "cell_type": "code",
      "source": [
        "from sklearn.pipeline import Pipeline"
      ],
      "metadata": {
        "id": "O5hKo3G_6Jp3"
      },
      "execution_count": 80,
      "outputs": []
    },
    {
      "cell_type": "code",
      "source": [
        "text_pipeline = Pipeline([\n",
        "                          ('bag_of_words',CountVectorizer(analyzer=rating_pre_process)),\n",
        "                          ('tfidf',TfidfTransformer()),\n",
        "                          ('classifier', MultinomialNB())\n",
        "])"
      ],
      "metadata": {
        "id": "SRRZz1FN6R0w"
      },
      "execution_count": 82,
      "outputs": []
    },
    {
      "cell_type": "code",
      "source": [
        "text_pipeline.fit(msg_train,class_train)"
      ],
      "metadata": {
        "colab": {
          "base_uri": "https://localhost:8080/"
        },
        "id": "8SaAuzeg6soK",
        "outputId": "6ef42a0e-02e3-4d7e-88bb-9954eb0d42dc"
      },
      "execution_count": 83,
      "outputs": [
        {
          "output_type": "execute_result",
          "data": {
            "text/plain": [
              "Pipeline(steps=[('bag_of_words',\n",
              "                 CountVectorizer(analyzer=<function rating_pre_process at 0x7f5ac6cbe5f0>)),\n",
              "                ('tfidf', TfidfTransformer()),\n",
              "                ('classifier', MultinomialNB())])"
            ]
          },
          "metadata": {},
          "execution_count": 83
        }
      ]
    },
    {
      "cell_type": "code",
      "source": [
        "text_pred = text_pipeline.predict(msg_test)"
      ],
      "metadata": {
        "id": "liQSRo1X6xEi"
      },
      "execution_count": 84,
      "outputs": []
    },
    {
      "cell_type": "code",
      "source": [
        "print(classification_report(text_pred,class_test))\n"
      ],
      "metadata": {
        "colab": {
          "base_uri": "https://localhost:8080/"
        },
        "id": "oOyX_sjU63RY",
        "outputId": "0ba32508-b2e4-45dd-e0ee-08ccf6356f73"
      },
      "execution_count": 85,
      "outputs": [
        {
          "output_type": "stream",
          "name": "stdout",
          "text": [
            "              precision    recall  f1-score   support\n",
            "\n",
            "           0       0.86      0.70      0.77        99\n",
            "           1       0.72      0.88      0.79        88\n",
            "\n",
            "    accuracy                           0.78       187\n",
            "   macro avg       0.79      0.79      0.78       187\n",
            "weighted avg       0.80      0.78      0.78       187\n",
            "\n"
          ]
        }
      ]
    },
    {
      "cell_type": "code",
      "source": [
        "msg_test.iloc[0]"
      ],
      "metadata": {
        "colab": {
          "base_uri": "https://localhost:8080/",
          "height": 35
        },
        "id": "ihUtyQIT6-rz",
        "outputId": "e9e9f6ea-815a-47e0-ec5b-5af65fa55add"
      },
      "execution_count": 86,
      "outputs": [
        {
          "output_type": "execute_result",
          "data": {
            "application/vnd.google.colaboratory.intrinsic+json": {
              "type": "string"
            },
            "text/plain": [
              "'I have to say that this film was excellently produced and tops the ratings as a typical sci fi film!  '"
            ]
          },
          "metadata": {},
          "execution_count": 86
        }
      ]
    },
    {
      "cell_type": "code",
      "source": [
        "class_test.iloc[0]"
      ],
      "metadata": {
        "colab": {
          "base_uri": "https://localhost:8080/"
        },
        "id": "aA76RKPO7E5G",
        "outputId": "c194df11-d529-4272-902b-0e61c943af5b"
      },
      "execution_count": 94,
      "outputs": [
        {
          "output_type": "execute_result",
          "data": {
            "text/plain": [
              "1"
            ]
          },
          "metadata": {},
          "execution_count": 94
        }
      ]
    },
    {
      "cell_type": "code",
      "source": [
        "text_pred"
      ],
      "metadata": {
        "colab": {
          "base_uri": "https://localhost:8080/"
        },
        "id": "2edKqPtZ7Jok",
        "outputId": "f334acac-ba2f-43e2-fd7c-38b499412ad1"
      },
      "execution_count": 88,
      "outputs": [
        {
          "output_type": "execute_result",
          "data": {
            "text/plain": [
              "array([0, 0, 0, 0, 1, 0, 1, 1, 0, 1, 0, 1, 1, 1, 0, 0, 0, 1, 0, 1, 0, 0,\n",
              "       0, 0, 1, 0, 1, 0, 0, 0, 1, 0, 0, 0, 0, 0, 1, 0, 0, 0, 1, 0, 0, 0,\n",
              "       1, 1, 1, 1, 0, 1, 1, 1, 1, 1, 1, 1, 1, 0, 1, 1, 0, 1, 1, 0, 1, 1,\n",
              "       0, 0, 0, 1, 1, 0, 0, 1, 0, 0, 1, 1, 1, 1, 0, 0, 1, 1, 1, 0, 0, 1,\n",
              "       1, 1, 0, 1, 1, 1, 0, 0, 1, 1, 0, 1, 0, 1, 1, 1, 0, 0, 0, 0, 0, 1,\n",
              "       0, 0, 0, 0, 1, 0, 1, 1, 0, 1, 0, 0, 0, 1, 0, 0, 1, 1, 1, 1, 0, 0,\n",
              "       0, 1, 0, 0, 0, 0, 0, 1, 0, 1, 1, 1, 0, 0, 1, 1, 1, 1, 0, 1, 1, 0,\n",
              "       1, 1, 1, 0, 0, 0, 0, 0, 0, 1, 0, 0, 1, 1, 1, 0, 0, 0, 0, 1, 0, 0,\n",
              "       0, 0, 1, 0, 0, 1, 0, 0, 1, 1, 1])"
            ]
          },
          "metadata": {},
          "execution_count": 88
        }
      ]
    },
    {
      "cell_type": "code",
      "source": [
        "class_test.iloc[1]"
      ],
      "metadata": {
        "colab": {
          "base_uri": "https://localhost:8080/"
        },
        "id": "8Km4A89o7OiG",
        "outputId": "d50cabd2-30dc-4a67-a7d5-f2726b4b7666"
      },
      "execution_count": 95,
      "outputs": [
        {
          "output_type": "execute_result",
          "data": {
            "text/plain": [
              "0"
            ]
          },
          "metadata": {},
          "execution_count": 95
        }
      ]
    },
    {
      "cell_type": "code",
      "source": [
        "class_test\n"
      ],
      "metadata": {
        "colab": {
          "base_uri": "https://localhost:8080/"
        },
        "id": "y7JIrr9P7TAN",
        "outputId": "d342ac30-65a1-4921-9797-00dc715054a5"
      },
      "execution_count": 98,
      "outputs": [
        {
          "output_type": "execute_result",
          "data": {
            "text/plain": [
              "440    1\n",
              "307    0\n",
              "638    0\n",
              "123    0\n",
              "629    1\n",
              "      ..\n",
              "479    1\n",
              "568    0\n",
              "208    1\n",
              "336    0\n",
              "678    1\n",
              "Name: Rating, Length: 187, dtype: int64"
            ]
          },
          "metadata": {},
          "execution_count": 98
        }
      ]
    },
    {
      "cell_type": "code",
      "source": [
        "class_test.hist()\n"
      ],
      "metadata": {
        "colab": {
          "base_uri": "https://localhost:8080/",
          "height": 283
        },
        "id": "Hms4KgNU9Ro1",
        "outputId": "e50c31e7-d6ab-41fa-a11b-abb53269658c"
      },
      "execution_count": 102,
      "outputs": [
        {
          "output_type": "execute_result",
          "data": {
            "text/plain": [
              "<matplotlib.axes._subplots.AxesSubplot at 0x7f5ac4b48890>"
            ]
          },
          "metadata": {},
          "execution_count": 102
        },
        {
          "output_type": "display_data",
          "data": {
            "image/png": "[encoded data removed]",
            "text/plain": [
              "<Figure size 432x288 with 1 Axes>"
            ]
          },
          "metadata": {
            "needs_background": "light"
          }
        }
      ]
    },
    {
      "cell_type": "markdown",
      "source": [
        "# Conclusion"
      ],
      "metadata": {
        "id": "TDcMUZhX8Q_n"
      }
    },
    {
      "cell_type": "markdown",
      "source": [
        "- In the rating classification report the good ratings and the bad ratings were\n",
        "equal. 0.98 \n",
        "- as the test prediction the bad ratings (0) is more than the good ratings(1)"
      ],
      "metadata": {
        "id": "h-pIzqja8Sq3"
      }
    },
    {
      "cell_type": "code",
      "source": [
        ""
      ],
      "metadata": {
        "id": "2RUdEZjc9BOy"
      },
      "execution_count": null,
      "outputs": []
    }
  ]
}